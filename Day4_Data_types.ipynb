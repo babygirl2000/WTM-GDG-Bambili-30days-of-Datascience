{
  "nbformat": 4,
  "nbformat_minor": 0,
  "metadata": {
    "colab": {
      "provenance": [],
      "authorship_tag": "ABX9TyO48IpPKHFq/fbzFz7mWC3Q",
      "include_colab_link": true
    },
    "kernelspec": {
      "name": "python3",
      "display_name": "Python 3"
    },
    "language_info": {
      "name": "python"
    }
  },
  "cells": [
    {
      "cell_type": "markdown",
      "metadata": {
        "id": "view-in-github",
        "colab_type": "text"
      },
      "source": [
        "<a href=\"https://colab.research.google.com/github/babygirl2000/WTM-GDG-Bambili-30days-of-Datascience/blob/main/Day4_Data_types.ipynb\" target=\"_parent\"><img src=\"https://colab.research.google.com/assets/colab-badge.svg\" alt=\"Open In Colab\"/></a>"
      ]
    },
    {
      "cell_type": "code",
      "execution_count": 6,
      "metadata": {
        "colab": {
          "base_uri": "https://localhost:8080/"
        },
        "id": "6EWGOnfydrvN",
        "outputId": "bbf5bd89-8134-46d2-d161-6f00d8e5049a"
      },
      "outputs": [
        {
          "output_type": "stream",
          "name": "stdout",
          "text": [
            "Hello world\n",
            "['mango', 'pear', 'fruits', 'plum', 'plantain', 3.4, 5.0, 2.0, 2.2, 9.8, 1, 2, 3, 4, 'Hello world']\n"
          ]
        }
      ],
      "source": [
        "list1 = [\"mango\",\"pear\",\"fruits\",\"plum\",\"plantain\",3.4,5.0,2.0,2.2,9.8,1,2,3,4]\n",
        "var1= \"Hello\" + \" world\"\n",
        "print(var1)\n",
        "list1.append(var1)\n",
        "print(list1)"
      ]
    },
    {
      "cell_type": "code",
      "source": [
        "list4 = ['m','a','n','k','a',3,4,5,6,2,4.5,4.3,6.3,4.6]"
      ],
      "metadata": {
        "id": "DIm6VQjPg7zM"
      },
      "execution_count": 8,
      "outputs": []
    },
    {
      "cell_type": "code",
      "source": [
        "list5 = list1 + list4\n",
        "print(list5)"
      ],
      "metadata": {
        "colab": {
          "base_uri": "https://localhost:8080/"
        },
        "id": "f_O3m1oShVos",
        "outputId": "2d91af94-bc47-460d-d79b-23fa9fe97e1f"
      },
      "execution_count": 9,
      "outputs": [
        {
          "output_type": "stream",
          "name": "stdout",
          "text": [
            "['mango', 'pear', 'fruits', 'plum', 'plantain', 3.4, 5.0, 2.0, 2.2, 9.8, 1, 2, 3, 4, 'Hello world', 'm', 'a', 'n', 'k', 'a', 3, 4, 5, 6, 2, 4.5, 4.3, 6.3, 4.6]\n"
          ]
        }
      ]
    },
    {
      "cell_type": "code",
      "source": [
        "list2 = [5, 6, 7.0, \"Eight\", \"Nine\"]\n",
        "list3 = []\n",
        "for i in list2:\n",
        "  list3.append(type(i))\n",
        "print(list3)"
      ],
      "metadata": {
        "colab": {
          "base_uri": "https://localhost:8080/"
        },
        "id": "HBr9aJA8hhVg",
        "outputId": "067123bc-ffa2-4ad0-9a3b-85b27a1fe6d3"
      },
      "execution_count": 10,
      "outputs": [
        {
          "output_type": "stream",
          "name": "stdout",
          "text": [
            "[<class 'int'>, <class 'int'>, <class 'float'>, <class 'str'>, <class 'str'>]\n"
          ]
        }
      ]
    }
  ]
}