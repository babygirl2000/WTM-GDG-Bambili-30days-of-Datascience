{
  "nbformat": 4,
  "nbformat_minor": 0,
  "metadata": {
    "colab": {
      "provenance": [],
      "authorship_tag": "ABX9TyNYxHxxK//SqF8M1i//vsGo",
      "include_colab_link": true
    },
    "kernelspec": {
      "name": "python3",
      "display_name": "Python 3"
    },
    "language_info": {
      "name": "python"
    }
  },
  "cells": [
    {
      "cell_type": "markdown",
      "metadata": {
        "id": "view-in-github",
        "colab_type": "text"
      },
      "source": [
        "<a href=\"https://colab.research.google.com/github/babygirl2000/WTM-GDG-Bambili-30days-of-Datascience/blob/main/Day17_RegularExpressions.ipynb\" target=\"_parent\"><img src=\"https://colab.research.google.com/assets/colab-badge.svg\" alt=\"Open In Colab\"/></a>"
      ]
    },
    {
      "cell_type": "code",
      "execution_count": null,
      "metadata": {
        "colab": {
          "base_uri": "https://localhost:8080/"
        },
        "id": "RnZ6Th5u9Yn7",
        "outputId": "8199d32f-5eee-4e3b-e5a9-895bc647a39b"
      },
      "outputs": [
        {
          "output_type": "execute_result",
          "data": {
            "text/plain": [
              "True"
            ]
          },
          "metadata": {},
          "execution_count": 1
        }
      ],
      "source": [
        "s = 'foo123bar'\n",
        "'123' in s"
      ]
    },
    {
      "cell_type": "code",
      "source": [
        "s = 'foo123bar'\n",
        "s.find('123')"
      ],
      "metadata": {
        "colab": {
          "base_uri": "https://localhost:8080/"
        },
        "id": "R065G8wb-Mt9",
        "outputId": "17effdc1-5f46-4926-f957-2075d0c9e816"
      },
      "execution_count": null,
      "outputs": [
        {
          "output_type": "execute_result",
          "data": {
            "text/plain": [
              "3"
            ]
          },
          "metadata": {},
          "execution_count": 2
        }
      ]
    },
    {
      "cell_type": "code",
      "source": [
        "s.index('123')"
      ],
      "metadata": {
        "colab": {
          "base_uri": "https://localhost:8080/"
        },
        "id": "V4Y2Lqiv-Q2z",
        "outputId": "92d5cd3b-4902-4b22-abe5-772e2d9f17d7"
      },
      "execution_count": null,
      "outputs": [
        {
          "output_type": "execute_result",
          "data": {
            "text/plain": [
              "3"
            ]
          },
          "metadata": {},
          "execution_count": 3
        }
      ]
    },
    {
      "cell_type": "code",
      "source": [
        "import re\n"
      ],
      "metadata": {
        "id": "DYOjVENt-Zjk"
      },
      "execution_count": null,
      "outputs": []
    },
    {
      "cell_type": "code",
      "source": [
        "s = 'foo123bar'\n",
        "\n",
        "# One last reminder to import!\n",
        "import re\n",
        "\n",
        "re.search('123', s)"
      ],
      "metadata": {
        "colab": {
          "base_uri": "https://localhost:8080/"
        },
        "id": "4ORNxWwG-W17",
        "outputId": "79bd2d96-0913-4677-8e4f-ed2138280594"
      },
      "execution_count": 2,
      "outputs": [
        {
          "output_type": "execute_result",
          "data": {
            "text/plain": [
              "<re.Match object; span=(3, 6), match='123'>"
            ]
          },
          "metadata": {},
          "execution_count": 2
        }
      ]
    },
    {
      "cell_type": "code",
      "source": [
        "if re.search('123', s):\n",
        "    print('Found a match.')\n",
        "else:\n",
        "    print('No match.')\n"
      ],
      "metadata": {
        "colab": {
          "base_uri": "https://localhost:8080/"
        },
        "id": "JS7eBGDc-rQr",
        "outputId": "4521d2c6-3c78-4be7-f7fe-159809a3171f"
      },
      "execution_count": null,
      "outputs": [
        {
          "output_type": "stream",
          "name": "stdout",
          "text": [
            "Found a match.\n"
          ]
        }
      ]
    },
    {
      "cell_type": "code",
      "source": [
        "re.search('[]]', 'foo[1]')\n",
        "\n",
        "re.search('[ab\\]cd]', 'foo[1]')\n"
      ],
      "metadata": {
        "id": "pclcZDQf_Lyc",
        "colab": {
          "base_uri": "https://localhost:8080/"
        },
        "outputId": "c1203469-0f39-4193-cb20-31f1486b237d"
      },
      "execution_count": 3,
      "outputs": [
        {
          "output_type": "execute_result",
          "data": {
            "text/plain": [
              "<re.Match object; span=(5, 6), match=']'>"
            ]
          },
          "metadata": {},
          "execution_count": 3
        }
      ]
    },
    {
      "cell_type": "code",
      "source": [
        "re.search('\\S', '  \\n foo  \\n  ')"
      ],
      "metadata": {
        "colab": {
          "base_uri": "https://localhost:8080/"
        },
        "id": "X-LXXMHZn4zO",
        "outputId": "1c057412-0465-45bf-aef1-044344ef2bb4"
      },
      "execution_count": 4,
      "outputs": [
        {
          "output_type": "execute_result",
          "data": {
            "text/plain": [
              "<re.Match object; span=(4, 5), match='f'>"
            ]
          },
          "metadata": {},
          "execution_count": 4
        }
      ]
    },
    {
      "cell_type": "code",
      "source": [
        "import sys\n",
        "sys.version\n",
        "\n",
        "\n",
        "re.search('foo.bar.baz(?s)', 'foo\\nbar\\nbaz')\n"
      ],
      "metadata": {
        "colab": {
          "base_uri": "https://localhost:8080/"
        },
        "id": "JfpiWvkgoGqK",
        "outputId": "ed2fdffa-55ac-4246-92c3-f481dfc92a67"
      },
      "execution_count": 5,
      "outputs": [
        {
          "output_type": "stream",
          "name": "stderr",
          "text": [
            "<ipython-input-5-6bf237018774>:5: DeprecationWarning: Flags not at the start of the expression 'foo.bar.baz(?s)'\n",
            "  re.search('foo.bar.baz(?s)', 'foo\\nbar\\nbaz')\n"
          ]
        },
        {
          "output_type": "execute_result",
          "data": {
            "text/plain": [
              "<re.Match object; span=(0, 11), match='foo\\nbar\\nbaz'>"
            ]
          },
          "metadata": {},
          "execution_count": 5
        }
      ]
    },
    {
      "cell_type": "code",
      "source": [],
      "metadata": {
        "id": "D34RSj10ogX7"
      },
      "execution_count": null,
      "outputs": []
    }
  ]
}