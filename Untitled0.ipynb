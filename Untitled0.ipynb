{
  "nbformat": 4,
  "nbformat_minor": 0,
  "metadata": {
    "colab": {
      "provenance": [],
      "authorship_tag": "ABX9TyNGLiTxzVnIGP35UpTfez/W",
      "include_colab_link": true
    },
    "kernelspec": {
      "name": "python3",
      "display_name": "Python 3"
    },
    "language_info": {
      "name": "python"
    }
  },
  "cells": [
    {
      "cell_type": "markdown",
      "metadata": {
        "id": "view-in-github",
        "colab_type": "text"
      },
      "source": [
        "<a href=\"https://colab.research.google.com/github/babygirl2000/WTM-GDG-Bambili-30days-of-Datascience/blob/main/Untitled0.ipynb\" target=\"_parent\"><img src=\"https://colab.research.google.com/assets/colab-badge.svg\" alt=\"Open In Colab\"/></a>"
      ]
    },
    {
      "cell_type": "code",
      "execution_count": 2,
      "metadata": {
        "colab": {
          "base_uri": "https://localhost:8080/"
        },
        "id": "7fldEw9rai8w",
        "outputId": "baa909e4-2595-4d82-936b-ddf576d7d5e6"
      },
      "outputs": [
        {
          "output_type": "stream",
          "name": "stdout",
          "text": [
            "2\n"
          ]
        }
      ],
      "source": [
        "answer = 1 + 1\n",
        "print(answer)"
      ]
    },
    {
      "cell_type": "markdown",
      "source": [
        "adds two numbers"
      ],
      "metadata": {
        "id": "XRvDVP5zdRrc"
      }
    },
    {
      "cell_type": "code",
      "source": [
        "var1 = 2 + 2\n",
        "print(var1)\n",
        "print(type(var1))\n",
        "# var1 is of type int"
      ],
      "metadata": {
        "colab": {
          "base_uri": "https://localhost:8080/"
        },
        "id": "F8GNd6fna46E",
        "outputId": "018e110a-a5b9-4a43-ba74-2d810f8ad130"
      },
      "execution_count": 5,
      "outputs": [
        {
          "output_type": "stream",
          "name": "stdout",
          "text": [
            "4\n",
            "<class 'int'>\n"
          ]
        }
      ]
    },
    {
      "cell_type": "markdown",
      "source": [
        "adds two numbers"
      ],
      "metadata": {
        "id": "8ZsOkDFjdVdr"
      }
    },
    {
      "cell_type": "code",
      "source": [
        "var2 = 3+2/5\n",
        "print(var2)\n",
        "print(type(var2))\n",
        "#var2 is o type float"
      ],
      "metadata": {
        "colab": {
          "base_uri": "https://localhost:8080/"
        },
        "id": "jpXs9TYQbo_5",
        "outputId": "11ecde12-71c0-4db9-eb14-065de8053b9d"
      },
      "execution_count": 8,
      "outputs": [
        {
          "output_type": "stream",
          "name": "stdout",
          "text": [
            "3.4\n",
            "<class 'float'>\n"
          ]
        }
      ]
    },
    {
      "cell_type": "markdown",
      "source": [
        "the output is a floating point number"
      ],
      "metadata": {
        "id": "t23qhrm0dZwc"
      }
    },
    {
      "cell_type": "code",
      "source": [
        "var3 = 4 * 16\n",
        "print(var3)\n",
        "print(type(var3))\n",
        "#var3 if of type int"
      ],
      "metadata": {
        "colab": {
          "base_uri": "https://localhost:8080/"
        },
        "id": "XVTOHLL1b05K",
        "outputId": "f1fc5401-b728-4fda-ae9e-53fb04116e41"
      },
      "execution_count": 11,
      "outputs": [
        {
          "output_type": "stream",
          "name": "stdout",
          "text": [
            "64\n",
            "<class 'int'>\n"
          ]
        }
      ]
    },
    {
      "cell_type": "code",
      "source": [
        "var4 = 4 ** 6\n",
        "print(var4)\n",
        "print(type(var4))"
      ],
      "metadata": {
        "colab": {
          "base_uri": "https://localhost:8080/"
        },
        "id": "N2bv0zhEcL8H",
        "outputId": "6a46b165-08ed-409b-e89c-4f2ca7fc60f3"
      },
      "execution_count": 14,
      "outputs": [
        {
          "output_type": "stream",
          "name": "stdout",
          "text": [
            "4096\n",
            "<class 'int'>\n"
          ]
        }
      ]
    },
    {
      "cell_type": "code",
      "source": [
        "var5 = 'Hello' + ' ' + 'world'\n",
        "print(var5)\n",
        "print(type(var5))\n",
        "#var5 is of type str"
      ],
      "metadata": {
        "colab": {
          "base_uri": "https://localhost:8080/"
        },
        "id": "HGvZOMN7caJk",
        "outputId": "0fbcb3c0-a419-40ce-8de9-95acec116e99"
      },
      "execution_count": 17,
      "outputs": [
        {
          "output_type": "stream",
          "name": "stdout",
          "text": [
            "Hello world\n",
            "<class 'str'>\n"
          ]
        }
      ]
    },
    {
      "cell_type": "code",
      "source": [
        "var6 = 'Hello world ' * 5\n",
        "print(var6)\n",
        "print(type(var6))"
      ],
      "metadata": {
        "colab": {
          "base_uri": "https://localhost:8080/"
        },
        "id": "xtu2Q6jccs4H",
        "outputId": "9fc04361-ce87-4ac4-9496-8a6d6452a71b"
      },
      "execution_count": 20,
      "outputs": [
        {
          "output_type": "stream",
          "name": "stdout",
          "text": [
            "Hello world Hello world Hello world Hello world Hello world \n",
            "<class 'str'>\n"
          ]
        }
      ]
    },
    {
      "cell_type": "code",
      "source": [
        "var7 = 4 % 3\n",
        "print(var7)\n",
        "print(type(var7))"
      ],
      "metadata": {
        "colab": {
          "base_uri": "https://localhost:8080/"
        },
        "id": "ZqHT5AGmc9fN",
        "outputId": "576818d3-fa94-4b02-fcd3-c3418cfc7a48"
      },
      "execution_count": 22,
      "outputs": [
        {
          "output_type": "stream",
          "name": "stdout",
          "text": [
            "1\n",
            "<class 'int'>\n"
          ]
        }
      ]
    }
  ]
}