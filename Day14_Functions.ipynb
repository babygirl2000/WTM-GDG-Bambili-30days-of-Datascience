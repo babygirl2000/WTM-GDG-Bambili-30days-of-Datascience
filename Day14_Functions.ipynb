{
  "nbformat": 4,
  "nbformat_minor": 0,
  "metadata": {
    "colab": {
      "provenance": [],
      "authorship_tag": "ABX9TyOFtnL6nqJmK14Zrv/Mr/Se",
      "include_colab_link": true
    },
    "kernelspec": {
      "name": "python3",
      "display_name": "Python 3"
    },
    "language_info": {
      "name": "python"
    }
  },
  "cells": [
    {
      "cell_type": "markdown",
      "metadata": {
        "id": "view-in-github",
        "colab_type": "text"
      },
      "source": [
        "<a href=\"https://colab.research.google.com/github/babygirl2000/WTM-GDG-Bambili-30days-of-Datascience/blob/main/Day14_Functions.ipynb\" target=\"_parent\"><img src=\"https://colab.research.google.com/assets/colab-badge.svg\" alt=\"Open In Colab\"/></a>"
      ]
    },
    {
      "cell_type": "code",
      "execution_count": 1,
      "metadata": {
        "colab": {
          "base_uri": "https://localhost:8080/"
        },
        "id": "5Lcnyadfq2ia",
        "outputId": "0c8fd6f8-0bf0-4841-f249-3c8a4aec390b"
      },
      "outputs": [
        {
          "output_type": "stream",
          "name": "stdout",
          "text": [
            "Before calling f()\n",
            "-- Inside f()\n",
            "After calling\n"
          ]
        }
      ],
      "source": [
        "def f():\n",
        "  s  = '-- Inside f()'\n",
        "  print(s)\n",
        "\n",
        "print('Before calling f()')\n",
        "f()\n",
        "print('After calling')"
      ]
    },
    {
      "cell_type": "code",
      "source": [
        "def greetings(name):\n",
        "  print (f'Hello {name}')\n",
        "greetings('mankaa')"
      ],
      "metadata": {
        "colab": {
          "base_uri": "https://localhost:8080/"
        },
        "id": "DsT2BrCArv5W",
        "outputId": "80d8ef83-c7c9-4fe5-b3e8-862fd913f845"
      },
      "execution_count": 2,
      "outputs": [
        {
          "output_type": "stream",
          "name": "stdout",
          "text": [
            "Hello mankaa\n"
          ]
        }
      ]
    },
    {
      "cell_type": "code",
      "source": [
        "greetings(name='king')"
      ],
      "metadata": {
        "colab": {
          "base_uri": "https://localhost:8080/"
        },
        "id": "Vhe2N0_mr7Xu",
        "outputId": "8c769633-7f80-4c2d-e8f3-f6ae0ad99d6e"
      },
      "execution_count": 3,
      "outputs": [
        {
          "output_type": "stream",
          "name": "stdout",
          "text": [
            "Hello king\n"
          ]
        }
      ]
    },
    {
      "cell_type": "code",
      "source": [
        "# by pass value s by pass reference\n",
        "def f(fx):\n",
        "  fx = 10\n",
        "\n",
        "x = 5\n",
        "f(x)"
      ],
      "metadata": {
        "id": "l6vA1avesGbI"
      },
      "execution_count": 7,
      "outputs": []
    },
    {
      "cell_type": "code",
      "source": [
        "# return statement\n",
        "def hello():\n",
        "  print('good morning')\n",
        "  print('have a nice day!')\n",
        "  return\n",
        "\n",
        "hello()"
      ],
      "metadata": {
        "colab": {
          "base_uri": "https://localhost:8080/"
        },
        "id": "0SCtWet-sWFh",
        "outputId": "b222f583-3d16-4839-e0bc-f9a7e1617dae"
      },
      "execution_count": 8,
      "outputs": [
        {
          "output_type": "stream",
          "name": "stdout",
          "text": [
            "good morning\n",
            "have a nice day!\n"
          ]
        }
      ]
    },
    {
      "cell_type": "code",
      "source": [
        "def f(x):\n",
        "  if x < 0:\n",
        "    return \n",
        "  if x > 100:\n",
        "    return \n",
        "  print(x)\n",
        "\n",
        "f(-23)\n",
        "f(182)\n",
        "f(67)"
      ],
      "metadata": {
        "colab": {
          "base_uri": "https://localhost:8080/"
        },
        "id": "THPyn666sb1x",
        "outputId": "27a9a342-e6ee-44e3-bde2-6ca95a0d1d5c"
      },
      "execution_count": 9,
      "outputs": [
        {
          "output_type": "stream",
          "name": "stdout",
          "text": [
            "67\n"
          ]
        }
      ]
    },
    {
      "cell_type": "code",
      "source": [
        "\n",
        "#returning data to the caller\n",
        "def f():\n",
        "  return 'foo'\n",
        "\n",
        "s = f()\n",
        "s\n",
        "    "
      ],
      "metadata": {
        "colab": {
          "base_uri": "https://localhost:8080/",
          "height": 35
        },
        "id": "3QkRiM8Eshgx",
        "outputId": "735faaa3-d23f-4847-c02a-bdd2ccb45d53"
      },
      "execution_count": 10,
      "outputs": [
        {
          "output_type": "execute_result",
          "data": {
            "text/plain": [
              "'foo'"
            ],
            "application/vnd.google.colaboratory.intrinsic+json": {
              "type": "string"
            }
          },
          "metadata": {},
          "execution_count": 10
        }
      ]
    },
    {
      "cell_type": "code",
      "source": [
        "def double_list(x):\n",
        "  i = 0\n",
        "  while i < len(x):\n",
        "    x[i] *= 2\n",
        "    i += 1\n",
        "\n",
        "a = [2,4,6,8]\n",
        "double_list(a)\n",
        "a"
      ],
      "metadata": {
        "colab": {
          "base_uri": "https://localhost:8080/"
        },
        "id": "eDG8NM_gsoB5",
        "outputId": "3d21526e-8b05-437f-d52b-913e0a7f671e"
      },
      "execution_count": 11,
      "outputs": [
        {
          "output_type": "execute_result",
          "data": {
            "text/plain": [
              "[4, 8, 12, 16]"
            ]
          },
          "metadata": {},
          "execution_count": 11
        }
      ]
    },
    {
      "cell_type": "code",
      "source": [
        "def avg(a):\n",
        "  total = 0\n",
        "  for i in a:\n",
        "    total += i\n",
        "  return total/ len(a)\n",
        "\n",
        "avg([2,3,4])"
      ],
      "metadata": {
        "colab": {
          "base_uri": "https://localhost:8080/"
        },
        "id": "CjhnzCY2swuv",
        "outputId": "6434d1cf-2836-4793-c31a-51a8410a9c17"
      },
      "execution_count": 12,
      "outputs": [
        {
          "output_type": "execute_result",
          "data": {
            "text/plain": [
              "3.0"
            ]
          },
          "metadata": {},
          "execution_count": 12
        }
      ]
    },
    {
      "cell_type": "code",
      "source": [
        "#mnultiple unpackings in python\n",
        "def f(*args):\n",
        "  for i in args:\n",
        "    print(i)\n",
        "\n",
        "a =[1,2,3]\n",
        "b =(4,5,6)\n",
        "s ={7,8,9}\n",
        "\n",
        "f(*a,*b,*s)"
      ],
      "metadata": {
        "colab": {
          "base_uri": "https://localhost:8080/"
        },
        "id": "KYoklfKBs2If",
        "outputId": "592551b6-0403-442f-ee76-3800250fad1b"
      },
      "execution_count": 13,
      "outputs": [
        {
          "output_type": "stream",
          "name": "stdout",
          "text": [
            "1\n",
            "2\n",
            "3\n",
            "4\n",
            "5\n",
            "6\n",
            "8\n",
            "9\n",
            "7\n"
          ]
        }
      ]
    },
    {
      "cell_type": "code",
      "source": [
        "def f(a: int, b: str) -> float:\n",
        "  print(a, b)\n",
        "  return 1, 2, 3\n",
        "\n",
        "f('hey', 23)"
      ],
      "metadata": {
        "colab": {
          "base_uri": "https://localhost:8080/"
        },
        "id": "URqNCXMTtA5C",
        "outputId": "4f40bc0b-5591-4348-d973-7d8631a4b7f4"
      },
      "execution_count": 14,
      "outputs": [
        {
          "output_type": "stream",
          "name": "stdout",
          "text": [
            "hey 23\n"
          ]
        },
        {
          "output_type": "execute_result",
          "data": {
            "text/plain": [
              "(1, 2, 3)"
            ]
          },
          "metadata": {},
          "execution_count": 14
        }
      ]
    }
  ]
}