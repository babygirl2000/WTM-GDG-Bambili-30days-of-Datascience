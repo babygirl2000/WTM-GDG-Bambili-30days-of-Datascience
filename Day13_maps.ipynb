{
  "nbformat": 4,
  "nbformat_minor": 0,
  "metadata": {
    "colab": {
      "provenance": [],
      "authorship_tag": "ABX9TyNDeyZ49dhvkR1cMPKm21IF",
      "include_colab_link": true
    },
    "kernelspec": {
      "name": "python3",
      "display_name": "Python 3"
    },
    "language_info": {
      "name": "python"
    }
  },
  "cells": [
    {
      "cell_type": "markdown",
      "metadata": {
        "id": "view-in-github",
        "colab_type": "text"
      },
      "source": [
        "<a href=\"https://colab.research.google.com/github/babygirl2000/WTM-GDG-Bambili-30days-of-Datascience/blob/main/Day13_maps.ipynb\" target=\"_parent\"><img src=\"https://colab.research.google.com/assets/colab-badge.svg\" alt=\"Open In Colab\"/></a>"
      ]
    },
    {
      "cell_type": "code",
      "execution_count": 1,
      "metadata": {
        "id": "9vysyZ0JlQdA",
        "colab": {
          "base_uri": "https://localhost:8080/"
        },
        "outputId": "c4f511c5-7196-4e22-bf9b-a697a540d911"
      },
      "outputs": [
        {
          "output_type": "execute_result",
          "data": {
            "text/plain": [
              "[1, 4, 9, 16, 25]"
            ]
          },
          "metadata": {},
          "execution_count": 1
        }
      ],
      "source": [
        "numbers = [1, 2, 3, 4, 5]\n",
        "squared = []\n",
        "\n",
        "for num in numbers:\n",
        "    squared.append(num ** 2)\n",
        "\n",
        "\n",
        "squared"
      ]
    },
    {
      "cell_type": "code",
      "source": [
        "def square(number):\n",
        "    return number ** 2\n",
        "\n",
        "\n",
        "numbers = [1, 2, 3, 4, 5]\n",
        "squared = map(square, numbers)\n",
        "list(squared)\n"
      ],
      "metadata": {
        "colab": {
          "base_uri": "https://localhost:8080/"
        },
        "id": "P15zPxadm9pd",
        "outputId": "ec7b8e1e-be34-40a2-b6aa-7b868cc6e7b7"
      },
      "execution_count": 3,
      "outputs": [
        {
          "output_type": "execute_result",
          "data": {
            "text/plain": [
              "[1, 4, 9, 16, 25]"
            ]
          },
          "metadata": {},
          "execution_count": 3
        }
      ]
    },
    {
      "cell_type": "code",
      "source": [
        "numbers = [-2, -1, 0, 1, 2]\n",
        "\n",
        "abs_values = list(map(abs, numbers))\n",
        "abs_values\n"
      ],
      "metadata": {
        "colab": {
          "base_uri": "https://localhost:8080/"
        },
        "id": "bI2UCrRcnlgC",
        "outputId": "2ee5671a-0dcf-42c0-dd22-bc21b324f1fd"
      },
      "execution_count": 4,
      "outputs": [
        {
          "output_type": "execute_result",
          "data": {
            "text/plain": [
              "[2, 1, 0, 1, 2]"
            ]
          },
          "metadata": {},
          "execution_count": 4
        }
      ]
    },
    {
      "cell_type": "code",
      "source": [
        "numbers = [1, 2, 3, 4, 5]\n",
        "\n",
        "squared = map(lambda num: num ** 2, numbers)\n",
        "\n",
        "list(squared)"
      ],
      "metadata": {
        "colab": {
          "base_uri": "https://localhost:8080/"
        },
        "id": "S0aIEFAbn7B5",
        "outputId": "b6068b35-a3fd-4e68-880c-ac83701e7f31"
      },
      "execution_count": 5,
      "outputs": [
        {
          "output_type": "execute_result",
          "data": {
            "text/plain": [
              "[1, 4, 9, 16, 25]"
            ]
          },
          "metadata": {},
          "execution_count": 5
        }
      ]
    },
    {
      "cell_type": "code",
      "source": [
        "first_it = [1, 2, 3]\n",
        "second_it = [4, 5, 6, 7]\n",
        "\n",
        "list(map(pow, first_it, second_it))"
      ],
      "metadata": {
        "colab": {
          "base_uri": "https://localhost:8080/"
        },
        "id": "QuVpPRgOoHKy",
        "outputId": "b82d207a-eacd-4042-8d98-1ce5810f1e58"
      },
      "execution_count": 6,
      "outputs": [
        {
          "output_type": "execute_result",
          "data": {
            "text/plain": [
              "[1, 32, 729]"
            ]
          },
          "metadata": {},
          "execution_count": 6
        }
      ]
    },
    {
      "cell_type": "code",
      "source": [
        "list(map(lambda x, y: x - y, [2, 4, 6], [1, 3, 5]))\n",
        "\n",
        "\n",
        "list(map(lambda x, y, z: x + y + z, [2, 4], [1, 3], [7, 8]))\n"
      ],
      "metadata": {
        "colab": {
          "base_uri": "https://localhost:8080/"
        },
        "id": "DOhBQK-roN0a",
        "outputId": "44a33106-02af-49a4-85f0-e784f6a50bad"
      },
      "execution_count": 7,
      "outputs": [
        {
          "output_type": "execute_result",
          "data": {
            "text/plain": [
              "[10, 15]"
            ]
          },
          "metadata": {},
          "execution_count": 7
        }
      ]
    },
    {
      "cell_type": "code",
      "source": [
        "string_it = [\"processing\", \"strings\", \"with\", \"map\"]\n",
        "list(map(str.capitalize, string_it))"
      ],
      "metadata": {
        "colab": {
          "base_uri": "https://localhost:8080/"
        },
        "id": "STtwIZMMoj26",
        "outputId": "330cda21-6c9c-462c-8022-30cf5adacca3"
      },
      "execution_count": 8,
      "outputs": [
        {
          "output_type": "execute_result",
          "data": {
            "text/plain": [
              "['Processing', 'Strings', 'With', 'Map']"
            ]
          },
          "metadata": {},
          "execution_count": 8
        }
      ]
    },
    {
      "cell_type": "code",
      "source": [
        "list(map(str.lower, string_it))"
      ],
      "metadata": {
        "colab": {
          "base_uri": "https://localhost:8080/"
        },
        "id": "--eiTQbLolNI",
        "outputId": "183a6c4f-4ced-4136-e6f0-28a52b3058a0"
      },
      "execution_count": 9,
      "outputs": [
        {
          "output_type": "execute_result",
          "data": {
            "text/plain": [
              "['processing', 'strings', 'with', 'map']"
            ]
          },
          "metadata": {},
          "execution_count": 9
        }
      ]
    },
    {
      "cell_type": "code",
      "source": [
        "with_spaces = [\"processing \", \"  strings\", \"with   \", \" map   \"]\n",
        "\n",
        "list(map(str.strip, with_spaces))"
      ],
      "metadata": {
        "colab": {
          "base_uri": "https://localhost:8080/"
        },
        "id": "KOlJ1h__oqSS",
        "outputId": "99416369-ba4b-446d-f485-6f7efd375292"
      },
      "execution_count": 10,
      "outputs": [
        {
          "output_type": "execute_result",
          "data": {
            "text/plain": [
              "['processing', 'strings', 'with', 'map']"
            ]
          },
          "metadata": {},
          "execution_count": 10
        }
      ]
    },
    {
      "cell_type": "code",
      "source": [
        "with_dots = [\"processing..\", \"...strings\", \"with....\", \"..map..\"]\n",
        "\n",
        "list(map(lambda s: s.strip(\".\"), with_dots))"
      ],
      "metadata": {
        "colab": {
          "base_uri": "https://localhost:8080/"
        },
        "id": "KY7zqW3AoxdA",
        "outputId": "2707eb3e-b7e0-4898-a0ee-6a4547cdca80"
      },
      "execution_count": 11,
      "outputs": [
        {
          "output_type": "execute_result",
          "data": {
            "text/plain": [
              "['processing', 'strings', 'with', 'map']"
            ]
          },
          "metadata": {},
          "execution_count": 11
        }
      ]
    },
    {
      "cell_type": "code",
      "source": [
        "def rotate_chr(c):\n",
        "    rot_by = 3\n",
        "    c = c.lower()\n",
        "    alphabet = \"abcdefghijklmnopqrstuvwxyz\"\n",
        "    # Keep punctuation and whitespace\n",
        "    if c not in alphabet:\n",
        "        return c\n",
        "    rotated_pos = ord(c) + rot_by\n",
        "    # If the rotation is inside the alphabet\n",
        "    if rotated_pos <= ord(alphabet[-1]):\n",
        "        return chr(rotated_pos)\n",
        "    # If the rotation goes beyond the alphabet\n",
        "    return chr(rotated_pos - len(alphabet))"
      ],
      "metadata": {
        "id": "JPK8bi0MpQMC"
      },
      "execution_count": 12,
      "outputs": []
    },
    {
      "cell_type": "code",
      "source": [
        "\"\".join(map(rotate_chr, \"My secret message goes here.\"))"
      ],
      "metadata": {
        "colab": {
          "base_uri": "https://localhost:8080/",
          "height": 35
        },
        "id": "y1bcIWRZpKeo",
        "outputId": "fcd73ba2-e0b4-44a8-b5be-237ee25675e4"
      },
      "execution_count": 13,
      "outputs": [
        {
          "output_type": "execute_result",
          "data": {
            "text/plain": [
              "'pb vhfuhw phvvdjh jrhv khuh.'"
            ],
            "application/vnd.google.colaboratory.intrinsic+json": {
              "type": "string"
            }
          },
          "metadata": {},
          "execution_count": 13
        }
      ]
    },
    {
      "cell_type": "code",
      "source": [
        "def powers(x):\n",
        "    return x ** 2, x ** 3\n",
        "\n",
        "\n",
        "numbers = [1, 2, 3, 4]\n",
        "\n",
        "list(map(powers, numbers))"
      ],
      "metadata": {
        "colab": {
          "base_uri": "https://localhost:8080/"
        },
        "id": "PWACQO7Hpqw-",
        "outputId": "a06622cb-a006-4092-e991-8e7a421ecb8a"
      },
      "execution_count": 14,
      "outputs": [
        {
          "output_type": "execute_result",
          "data": {
            "text/plain": [
              "[(1, 1), (4, 8), (9, 27), (16, 64)]"
            ]
          },
          "metadata": {},
          "execution_count": 14
        }
      ]
    },
    {
      "cell_type": "code",
      "source": [
        "import math\n",
        "\n",
        "numbers = [1, 2, 3, 4, 5, 6, 7]\n",
        "\n",
        "list(map(math.factorial, numbers))"
      ],
      "metadata": {
        "colab": {
          "base_uri": "https://localhost:8080/"
        },
        "id": "0WFp6yympyO_",
        "outputId": "9aaaecf0-e691-4933-9c1e-b499748e8d75"
      },
      "execution_count": 15,
      "outputs": [
        {
          "output_type": "execute_result",
          "data": {
            "text/plain": [
              "[1, 2, 6, 24, 120, 720, 5040]"
            ]
          },
          "metadata": {},
          "execution_count": 15
        }
      ]
    },
    {
      "cell_type": "code",
      "source": [
        "# Transformation function\n",
        "def square(number):\n",
        "    return number ** 2\n",
        "\n",
        "numbers = [1, 2, 3, 4, 5, 6]\n",
        "\n",
        "# Using map()\n",
        "list(map(square, numbers))\n",
        "\n",
        "\n",
        "# Using a list comprehension\n",
        "[square(x) for x in numbers]"
      ],
      "metadata": {
        "colab": {
          "base_uri": "https://localhost:8080/"
        },
        "id": "JMZO0MfNqYY2",
        "outputId": "fb8272d3-6282-471f-c3fb-7323a803e648"
      },
      "execution_count": 16,
      "outputs": [
        {
          "output_type": "execute_result",
          "data": {
            "text/plain": [
              "[1, 4, 9, 16, 25, 36]"
            ]
          },
          "metadata": {},
          "execution_count": 16
        }
      ]
    },
    {
      "cell_type": "code",
      "source": [
        "# Transformation function\n",
        "def square(number):\n",
        "    return number ** 2\n",
        "\n",
        "numbers = [1, 2, 3, 4, 5, 6]\n",
        "\n",
        "# Using map()\n",
        "map_obj = map(square, numbers)\n",
        "map_obj\n",
        "\n",
        "\n",
        "list(map_obj)\n",
        "\n",
        "\n",
        "# Using a generator expression\n",
        "gen_exp = (square(x) for x in numbers)\n",
        "gen_exp\n",
        "\n",
        "\n",
        "list(gen_exp)"
      ],
      "metadata": {
        "colab": {
          "base_uri": "https://localhost:8080/"
        },
        "id": "i3xtJEZqqgPJ",
        "outputId": "d549e829-e8a3-4c8f-bd86-066918c62c4b"
      },
      "execution_count": 17,
      "outputs": [
        {
          "output_type": "execute_result",
          "data": {
            "text/plain": [
              "[1, 4, 9, 16, 25, 36]"
            ]
          },
          "metadata": {},
          "execution_count": 17
        }
      ]
    }
  ]
}