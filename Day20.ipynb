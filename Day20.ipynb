{
  "nbformat": 4,
  "nbformat_minor": 0,
  "metadata": {
    "colab": {
      "provenance": [],
      "authorship_tag": "ABX9TyP9hi6+XNLs/TKqm9nWuiHi",
      "include_colab_link": true
    },
    "kernelspec": {
      "name": "python3",
      "display_name": "Python 3"
    },
    "language_info": {
      "name": "python"
    }
  },
  "cells": [
    {
      "cell_type": "markdown",
      "metadata": {
        "id": "view-in-github",
        "colab_type": "text"
      },
      "source": [
        "<a href=\"https://colab.research.google.com/github/babygirl2000/WTM-GDG-Bambili-30days-of-Datascience/blob/main/Day20.ipynb\" target=\"_parent\"><img src=\"https://colab.research.google.com/assets/colab-badge.svg\" alt=\"Open In Colab\"/></a>"
      ]
    },
    {
      "cell_type": "code",
      "execution_count": null,
      "metadata": {
        "id": "YpMwvB8GvqIK"
      },
      "outputs": [],
      "source": [
        "with open(\"flower_type.txt\",\"r\") as reader:\n",
        "    # print(reader.read())\n",
        "    for line in reader:\n",
        "        print(line,end='')\n",
        "    flower = reader.readlines()\n",
        "\n",
        "\n"
      ]
    },
    {
      "cell_type": "code",
      "source": [
        "with open(\"flower_type.txt\",\"w\") as writer :\n",
        "    for flowers in reversed(flower):\n",
        "        writer.write(flower)"
      ],
      "metadata": {
        "id": "FSHi0TIdv1Oa"
      },
      "execution_count": null,
      "outputs": []
    }
  ]
}