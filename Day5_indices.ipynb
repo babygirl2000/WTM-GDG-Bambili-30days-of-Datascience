{
  "nbformat": 4,
  "nbformat_minor": 0,
  "metadata": {
    "colab": {
      "provenance": [],
      "authorship_tag": "ABX9TyN+2F9oTlP0b/tZ589HXVrB",
      "include_colab_link": true
    },
    "kernelspec": {
      "name": "python3",
      "display_name": "Python 3"
    },
    "language_info": {
      "name": "python"
    }
  },
  "cells": [
    {
      "cell_type": "markdown",
      "metadata": {
        "id": "view-in-github",
        "colab_type": "text"
      },
      "source": [
        "<a href=\"https://colab.research.google.com/github/babygirl2000/WTM-GDG-Bambili-30days-of-Datascience/blob/main/Day5_indices.ipynb\" target=\"_parent\"><img src=\"https://colab.research.google.com/assets/colab-badge.svg\" alt=\"Open In Colab\"/></a>"
      ]
    },
    {
      "cell_type": "code",
      "execution_count": 6,
      "metadata": {
        "colab": {
          "base_uri": "https://localhost:8080/"
        },
        "id": "EnO4lJ_gi4ZK",
        "outputId": "746a8cb5-b64d-4062-d7b9-517d497be21a"
      },
      "outputs": [
        {
          "output_type": "stream",
          "name": "stdout",
          "text": [
            "2\n",
            "[6, 8, 10]\n",
            "[2, 4]\n"
          ]
        }
      ],
      "source": [
        "listIndex1 = [2,4,6,8,10]\n",
        "print(listIndex1[0])\n",
        "print(listIndex1[2:])\n",
        "print(listIndex1[:2])\n"
      ]
    },
    {
      "cell_type": "code",
      "source": [
        "var1 = listIndex1[4]\n",
        "print(var1)"
      ],
      "metadata": {
        "colab": {
          "base_uri": "https://localhost:8080/"
        },
        "id": "f6Ma1mrsjl1y",
        "outputId": "8a957eee-1e17-44d8-8414-410e34149be0"
      },
      "execution_count": 4,
      "outputs": [
        {
          "output_type": "stream",
          "name": "stdout",
          "text": [
            "10\n"
          ]
        }
      ]
    }
  ]
}