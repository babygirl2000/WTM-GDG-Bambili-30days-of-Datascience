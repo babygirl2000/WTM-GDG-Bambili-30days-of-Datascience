{
  "nbformat": 4,
  "nbformat_minor": 0,
  "metadata": {
    "colab": {
      "provenance": [],
      "authorship_tag": "ABX9TyNGs1t6b9y00yg2btQtMapx",
      "include_colab_link": true
    },
    "kernelspec": {
      "name": "python3",
      "display_name": "Python 3"
    },
    "language_info": {
      "name": "python"
    }
  },
  "cells": [
    {
      "cell_type": "markdown",
      "metadata": {
        "id": "view-in-github",
        "colab_type": "text"
      },
      "source": [
        "<a href=\"https://colab.research.google.com/github/babygirl2000/WTM-GDG-Bambili-30days-of-Datascience/blob/main/Day2_tools_Introduction.ipynb\" target=\"_parent\"><img src=\"https://colab.research.google.com/assets/colab-badge.svg\" alt=\"Open In Colab\"/></a>"
      ]
    },
    {
      "cell_type": "code",
      "execution_count": 1,
      "metadata": {
        "id": "a4c6slNtYjT5"
      },
      "outputs": [],
      "source": [
        "sample_variable=None"
      ]
    },
    {
      "cell_type": "code",
      "source": [
        "#this code will not be executed if you click play"
      ],
      "metadata": {
        "id": "MEN_D9AgZErl"
      },
      "execution_count": null,
      "outputs": []
    },
    {
      "cell_type": "code",
      "source": [
        "sample_variable = \"hello world\"\n",
        "print(sample_variable)"
      ],
      "metadata": {
        "colab": {
          "base_uri": "https://localhost:8080/"
        },
        "id": "l0SwCZ5gZaFa",
        "outputId": "8850e441-3783-4758-89f1-c1531ddc80bf"
      },
      "execution_count": 2,
      "outputs": [
        {
          "output_type": "stream",
          "name": "stdout",
          "text": [
            "hello world\n"
          ]
        }
      ]
    }
  ]
}