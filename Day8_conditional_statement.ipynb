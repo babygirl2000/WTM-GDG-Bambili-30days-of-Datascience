{
  "nbformat": 4,
  "nbformat_minor": 0,
  "metadata": {
    "colab": {
      "provenance": [],
      "authorship_tag": "ABX9TyNcYnsaGpoT/mfNgF6ZRxIm",
      "include_colab_link": true
    },
    "kernelspec": {
      "name": "python3",
      "display_name": "Python 3"
    },
    "language_info": {
      "name": "python"
    }
  },
  "cells": [
    {
      "cell_type": "markdown",
      "metadata": {
        "id": "view-in-github",
        "colab_type": "text"
      },
      "source": [
        "<a href=\"https://colab.research.google.com/github/babygirl2000/WTM-GDG-Bambili-30days-of-Datascience/blob/main/Day8_conditional_statement.ipynb\" target=\"_parent\"><img src=\"https://colab.research.google.com/assets/colab-badge.svg\" alt=\"Open In Colab\"/></a>"
      ]
    },
    {
      "cell_type": "code",
      "execution_count": null,
      "metadata": {
        "colab": {
          "base_uri": "https://localhost:8080/"
        },
        "id": "DgWjaj1kRnuB",
        "outputId": "25c8af97-97bc-4c9f-bf26-1399fd184a7b"
      },
      "outputs": [
        {
          "output_type": "stream",
          "name": "stdout",
          "text": [
            "yes\n",
            "yes\n",
            "yes\n",
            "yes\n"
          ]
        }
      ],
      "source": [
        "x = 0\n",
        "y = 5\n",
        "\n",
        "if x < y:                            # Truthy\n",
        "    print('yes')\n",
        "\n",
        "\n",
        "if y < x:                            # Falsy\n",
        "    print('yes')\n",
        "\n",
        "\n",
        "if x:                                # Falsy\n",
        "    print('yes')\n",
        "\n",
        "if y:                                # Truthy\n",
        "    print('yes')\n",
        "\n",
        "\n",
        "\n",
        "if x or y:                           # Truthy\n",
        "    print('yes')\n",
        "\n",
        "\n",
        "if x and y:                          # Falsy\n",
        "    print('yes')\n",
        "\n",
        "\n",
        "if 'aul' in 'grault':                # Truthy\n",
        "    print('yes')\n",
        "\n",
        "\n",
        "if 'quux' in ['foo', 'bar', 'baz']:  # Falsy\n",
        "    print('yes')"
      ]
    },
    {
      "cell_type": "code",
      "source": [
        "if 'foo' in ['bar', 'baz', 'qux']:\n",
        "    print('Expression was true')\n",
        "    print('Executing statement in suite')\n",
        "    print('...')\n",
        "    print('Done.')\n",
        "print('After conditional')"
      ],
      "metadata": {
        "colab": {
          "base_uri": "https://localhost:8080/"
        },
        "id": "qq6vh5iBSSQJ",
        "outputId": "571e6a4a-29c6-4d0a-d5cc-7dab5c719a0d"
      },
      "execution_count": null,
      "outputs": [
        {
          "output_type": "stream",
          "name": "stdout",
          "text": [
            "After conditional\n"
          ]
        }
      ]
    },
    {
      "cell_type": "code",
      "source": [
        "if 'foo' in ['foo', 'bar', 'baz']:        #  x\n",
        "    print('Outer condition is true')      #  x\n",
        "\n",
        "    if 10 > 20:                           #  x\n",
        "        print('Inner condition 1')        #        x\n",
        "\n",
        "    print('Between inner conditions')     #  x\n",
        "\n",
        "    if 10 < 20:                           #  x\n",
        "        print('Inner condition 2')        #  x\n",
        "\n",
        "    print('End of outer condition')       #  x\n",
        "print('After outer condition')  "
      ],
      "metadata": {
        "colab": {
          "base_uri": "https://localhost:8080/"
        },
        "id": "B2g46sxoSZl1",
        "outputId": "a79f1b61-4622-4996-8270-284d215f6e73"
      },
      "execution_count": null,
      "outputs": [
        {
          "output_type": "stream",
          "name": "stdout",
          "text": [
            "Outer condition is true\n",
            "Between inner conditions\n",
            "Inner condition 2\n",
            "End of outer condition\n",
            "After outer condition\n"
          ]
        }
      ]
    },
    {
      "cell_type": "code",
      "source": [
        "x = 20\n",
        "\n",
        "if x < 50:\n",
        "    print('(first suite)')\n",
        "    print('x is small')\n",
        "else:\n",
        "    print('(second suite)')\n",
        "    print('x is large')"
      ],
      "metadata": {
        "colab": {
          "base_uri": "https://localhost:8080/"
        },
        "id": "ZzREdehjSh1O",
        "outputId": "774d7fd8-17d0-4fa6-a557-ca1db58cdd1a"
      },
      "execution_count": null,
      "outputs": [
        {
          "output_type": "stream",
          "name": "stdout",
          "text": [
            "(first suite)\n",
            "x is small\n"
          ]
        }
      ]
    },
    {
      "cell_type": "code",
      "source": [
        "x = 120\n",
        "\n",
        "if x < 50:\n",
        "    print('(first suite)')\n",
        "    print('x is small')\n",
        "else:\n",
        "    print('(second suite)')\n",
        "    print('x is large')"
      ],
      "metadata": {
        "id": "8RUnGEvDSrDW"
      },
      "execution_count": null,
      "outputs": []
    },
    {
      "cell_type": "code",
      "source": [
        "name = 'Joe'\n",
        "if name == 'Fred':\n",
        "    print('Hello Fred')\n",
        "elif name == 'Xander':\n",
        "    print('Hello Xander')\n",
        "elif name == 'Joe':\n",
        "    print('Hello Joe')\n",
        "elif name == 'Arnold':\n",
        "    print('Hello Arnold')\n",
        "else:\n",
        "    print(\"I don't know who you are!\")"
      ],
      "metadata": {
        "id": "rJ6EE2AXSyaN",
        "colab": {
          "base_uri": "https://localhost:8080/"
        },
        "outputId": "215162cd-51a1-478e-c6d2-e5483063ea58"
      },
      "execution_count": 1,
      "outputs": [
        {
          "output_type": "stream",
          "name": "stdout",
          "text": [
            "Hello Joe\n"
          ]
        }
      ]
    },
    {
      "cell_type": "code",
      "source": [
        "x = 3\n",
        "if x == 1:\n",
        "    print('foo')\n",
        "    print('bar')\n",
        "    print('baz')\n",
        "elif x == 2:\n",
        "    print('qux')\n",
        "    print('quux')\n",
        "else:\n",
        "    print('corge')\n",
        "    print('grault')"
      ],
      "metadata": {
        "colab": {
          "base_uri": "https://localhost:8080/"
        },
        "id": "jIktixIwbX5h",
        "outputId": "81c416bc-1d35-4312-e491-9f53b0185d4d"
      },
      "execution_count": 1,
      "outputs": [
        {
          "output_type": "stream",
          "name": "stdout",
          "text": [
            "corge\n",
            "grault\n"
          ]
        }
      ]
    },
    {
      "cell_type": "code",
      "source": [],
      "metadata": {
        "id": "swOLx7Xpbg8V"
      },
      "execution_count": 2,
      "outputs": []
    }
  ]
}